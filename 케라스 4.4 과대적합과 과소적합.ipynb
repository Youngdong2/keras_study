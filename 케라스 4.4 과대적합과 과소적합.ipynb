{
 "cells": [
  {
   "cell_type": "code",
   "execution_count": 2,
   "id": "54ac3655",
   "metadata": {},
   "outputs": [],
   "source": [
    "from tensorflow import keras\n",
    "from tensorflow.keras.datasets import imdb\n",
    "import numpy as np"
   ]
  },
  {
   "cell_type": "code",
   "execution_count": 6,
   "id": "96ef55bd",
   "metadata": {},
   "outputs": [],
   "source": [
    "(train_data, train_labels), (test_data, test_labels) = imdb.load_data(num_words=10000)\n",
    "\n",
    "def vectorize_sequences(sequences, dimension=10000):\n",
    "    # 크기가 (len(sequences), dimension)이고 모든 원소가 0인 행렬을 만듬.\n",
    "    results = np.zeros((len(sequences), dimension))\n",
    "    for i, sequence in enumerate(sequences):\n",
    "        results[i, sequence] = 1. # results[i]에서 특정 인덱스의 위치를 1로 만든다.\n",
    "    return results\n",
    "\n",
    "# 훈련 데이터를 벡터로 변환한다.\n",
    "x_train = vectorize_sequences(train_data)\n",
    "# 테스트 데이터를 벡터로 변환한다.\n",
    "x_test = vectorize_sequences(test_data)\n",
    "# 레이블을 벡터로 변환한다.\n",
    "y_train = np.asarray(train_labels).astype('float32')\n",
    "y_test = np.asarray(test_labels).astype('float32')"
   ]
  },
  {
   "cell_type": "markdown",
   "id": "dfbee254",
   "metadata": {},
   "source": [
    "## 과대적합"
   ]
  },
  {
   "cell_type": "markdown",
   "id": "2d515e8e",
   "metadata": {},
   "source": [
    "### 네트워크 크기 축소"
   ]
  },
  {
   "cell_type": "markdown",
   "id": "2a7602cb",
   "metadata": {},
   "source": [
    "과대적합을 막는 가장 단순한 방법은 모델의 크기, 즉 모델에 있는 학습 파라미터의 수를 줄이는 것이다."
   ]
  },
  {
   "cell_type": "markdown",
   "id": "aa963a8b",
   "metadata": {},
   "source": [
    "원래의 네트워크는 다음과 같다."
   ]
  },
  {
   "cell_type": "code",
   "execution_count": 7,
   "id": "fba80988",
   "metadata": {},
   "outputs": [
    {
     "name": "stderr",
     "output_type": "stream",
     "text": [
      "2022-06-12 14:59:04.349699: I tensorflow/core/platform/cpu_feature_guard.cc:142] This TensorFlow binary is optimized with oneAPI Deep Neural Network Library (oneDNN) to use the following CPU instructions in performance-critical operations:  AVX2 AVX512F FMA\n",
      "To enable them in other operations, rebuild TensorFlow with the appropriate compiler flags.\n",
      "2022-06-12 14:59:05.579165: I tensorflow/core/common_runtime/gpu/gpu_device.cc:1510] Created device /job:localhost/replica:0/task:0/device:GPU:0 with 21332 MB memory:  -> device: 0, name: Quadro RTX 6000, pci bus id: 0000:06:00.0, compute capability: 7.5\n"
     ]
    }
   ],
   "source": [
    "from tensorflow.keras import models\n",
    "from tensorflow.keras import layers\n",
    "\n",
    "original_model = models.Sequential()\n",
    "original_model.add(layers.Dense(16, activation='relu', input_shape=(10000,)))\n",
    "original_model.add(layers.Dense(16, activation='relu'))\n",
    "original_model.add(layers.Dense(1, activation='sigmoid'))\n",
    "\n",
    "original_model.compile(optimizer='rmsprop',\n",
    "                      loss='binary_crossentropy',\n",
    "                      metrics=['acc'])"
   ]
  },
  {
   "cell_type": "markdown",
   "id": "99db15a1",
   "metadata": {},
   "source": [
    "더 작은 네트워크로 바꿔보자."
   ]
  },
  {
   "cell_type": "code",
   "execution_count": 8,
   "id": "d74b180e",
   "metadata": {},
   "outputs": [],
   "source": [
    "smaller_model = models.Sequential()\n",
    "smaller_model.add(layers.Dense(6, activation='relu', input_shape=(10000,)))\n",
    "smaller_model.add(layers.Dense(6, activation='relu'))\n",
    "smaller_model.add(layers.Dense(1, activation='sigmoid'))\n",
    "\n",
    "smaller_model.compile(optimizer='rmsprop',\n",
    "                      loss='binary_crossentropy',\n",
    "                      metrics=['accuracy'])"
   ]
  },
  {
   "cell_type": "markdown",
   "id": "40045629",
   "metadata": {},
   "source": [
    "원본 네트워크와 축소된 네트워크의 검증 손실을 비교해 보자."
   ]
  },
  {
   "cell_type": "code",
   "execution_count": 10,
   "id": "6c62e606",
   "metadata": {
    "scrolled": true
   },
   "outputs": [
    {
     "name": "stderr",
     "output_type": "stream",
     "text": [
      "2022-06-12 15:00:46.658778: I tensorflow/compiler/mlir/mlir_graph_optimization_pass.cc:185] None of the MLIR Optimization Passes are enabled (registered 2)\n"
     ]
    },
    {
     "name": "stdout",
     "output_type": "stream",
     "text": [
      "Epoch 1/20\n",
      "49/49 [==============================] - 4s 60ms/step - loss: 0.4475 - acc: 0.8236 - val_loss: 0.3585 - val_acc: 0.8589\n",
      "Epoch 2/20\n",
      "49/49 [==============================] - 1s 18ms/step - loss: 0.2586 - acc: 0.9083 - val_loss: 0.2945 - val_acc: 0.8827\n",
      "Epoch 3/20\n",
      "49/49 [==============================] - 1s 19ms/step - loss: 0.1999 - acc: 0.9298 - val_loss: 0.2855 - val_acc: 0.8865\n",
      "Epoch 4/20\n",
      "49/49 [==============================] - 1s 18ms/step - loss: 0.1657 - acc: 0.9417 - val_loss: 0.3264 - val_acc: 0.8708\n",
      "Epoch 5/20\n",
      "49/49 [==============================] - 1s 19ms/step - loss: 0.1430 - acc: 0.9501 - val_loss: 0.3094 - val_acc: 0.8810\n",
      "Epoch 6/20\n",
      "49/49 [==============================] - 1s 17ms/step - loss: 0.1217 - acc: 0.9580 - val_loss: 0.3519 - val_acc: 0.8704\n",
      "Epoch 7/20\n",
      "49/49 [==============================] - 1s 18ms/step - loss: 0.1070 - acc: 0.9638 - val_loss: 0.3697 - val_acc: 0.8678\n",
      "Epoch 8/20\n",
      "49/49 [==============================] - 1s 18ms/step - loss: 0.0914 - acc: 0.9699 - val_loss: 0.4539 - val_acc: 0.8520\n",
      "Epoch 9/20\n",
      "49/49 [==============================] - 1s 18ms/step - loss: 0.0805 - acc: 0.9742 - val_loss: 0.4133 - val_acc: 0.8672\n",
      "Epoch 10/20\n",
      "49/49 [==============================] - 1s 20ms/step - loss: 0.0684 - acc: 0.9784 - val_loss: 0.5072 - val_acc: 0.8504\n",
      "Epoch 11/20\n",
      "49/49 [==============================] - 1s 18ms/step - loss: 0.0572 - acc: 0.9836 - val_loss: 0.4900 - val_acc: 0.8581\n",
      "Epoch 12/20\n",
      "49/49 [==============================] - 1s 18ms/step - loss: 0.0486 - acc: 0.9861 - val_loss: 0.5093 - val_acc: 0.8591\n",
      "Epoch 13/20\n",
      "49/49 [==============================] - 1s 22ms/step - loss: 0.0412 - acc: 0.9885 - val_loss: 0.5401 - val_acc: 0.8574\n",
      "Epoch 14/20\n",
      "49/49 [==============================] - 1s 20ms/step - loss: 0.0329 - acc: 0.9910 - val_loss: 0.5746 - val_acc: 0.8560\n",
      "Epoch 15/20\n",
      "49/49 [==============================] - 1s 19ms/step - loss: 0.0250 - acc: 0.9945 - val_loss: 0.6403 - val_acc: 0.8520\n",
      "Epoch 16/20\n",
      "49/49 [==============================] - 1s 21ms/step - loss: 0.0237 - acc: 0.9933 - val_loss: 0.6746 - val_acc: 0.8502\n",
      "Epoch 17/20\n",
      "49/49 [==============================] - 1s 18ms/step - loss: 0.0161 - acc: 0.9964 - val_loss: 0.6850 - val_acc: 0.8541\n",
      "Epoch 18/20\n",
      "49/49 [==============================] - 1s 18ms/step - loss: 0.0152 - acc: 0.9966 - val_loss: 0.7226 - val_acc: 0.8518\n",
      "Epoch 19/20\n",
      "49/49 [==============================] - 1s 19ms/step - loss: 0.0095 - acc: 0.9985 - val_loss: 0.8556 - val_acc: 0.8423\n",
      "Epoch 20/20\n",
      "49/49 [==============================] - 1s 19ms/step - loss: 0.0105 - acc: 0.9976 - val_loss: 0.8068 - val_acc: 0.8506\n"
     ]
    }
   ],
   "source": [
    "original_hist = original_model.fit(x_train, y_train, epochs=20,\n",
    "                                  batch_size=512, validation_data=(x_test, y_test))"
   ]
  },
  {
   "cell_type": "code",
   "execution_count": 13,
   "id": "6244ec7e",
   "metadata": {
    "scrolled": true
   },
   "outputs": [
    {
     "name": "stdout",
     "output_type": "stream",
     "text": [
      "Epoch 1/20\n",
      "49/49 [==============================] - 4s 75ms/step - loss: 0.5143 - accuracy: 0.8137 - val_loss: 0.4147 - val_accuracy: 0.8586\n",
      "Epoch 2/20\n",
      "49/49 [==============================] - 1s 24ms/step - loss: 0.3283 - accuracy: 0.8969 - val_loss: 0.3235 - val_accuracy: 0.8816\n",
      "Epoch 3/20\n",
      "49/49 [==============================] - 1s 19ms/step - loss: 0.2497 - accuracy: 0.9171 - val_loss: 0.2877 - val_accuracy: 0.8886\n",
      "Epoch 4/20\n",
      "49/49 [==============================] - 1s 20ms/step - loss: 0.2076 - accuracy: 0.9302 - val_loss: 0.2806 - val_accuracy: 0.8888\n",
      "Epoch 5/20\n",
      "49/49 [==============================] - 1s 18ms/step - loss: 0.1811 - accuracy: 0.9371 - val_loss: 0.2805 - val_accuracy: 0.8875\n",
      "Epoch 6/20\n",
      "49/49 [==============================] - 1s 17ms/step - loss: 0.1601 - accuracy: 0.9451 - val_loss: 0.2987 - val_accuracy: 0.8810\n",
      "Epoch 7/20\n",
      "49/49 [==============================] - 1s 17ms/step - loss: 0.1452 - accuracy: 0.9510 - val_loss: 0.2973 - val_accuracy: 0.8834\n",
      "Epoch 8/20\n",
      "49/49 [==============================] - 1s 19ms/step - loss: 0.1316 - accuracy: 0.9549 - val_loss: 0.3121 - val_accuracy: 0.8791\n",
      "Epoch 9/20\n",
      "49/49 [==============================] - 1s 18ms/step - loss: 0.1202 - accuracy: 0.9608 - val_loss: 0.3287 - val_accuracy: 0.8760\n",
      "Epoch 10/20\n",
      "49/49 [==============================] - 1s 18ms/step - loss: 0.1102 - accuracy: 0.9638 - val_loss: 0.3481 - val_accuracy: 0.8731\n",
      "Epoch 11/20\n",
      "49/49 [==============================] - 1s 18ms/step - loss: 0.1016 - accuracy: 0.9666 - val_loss: 0.3612 - val_accuracy: 0.8712\n",
      "Epoch 12/20\n",
      "49/49 [==============================] - 1s 19ms/step - loss: 0.0937 - accuracy: 0.9700 - val_loss: 0.3767 - val_accuracy: 0.8709\n",
      "Epoch 13/20\n",
      "49/49 [==============================] - 1s 20ms/step - loss: 0.0865 - accuracy: 0.9725 - val_loss: 0.3961 - val_accuracy: 0.8684\n",
      "Epoch 14/20\n",
      "49/49 [==============================] - 1s 20ms/step - loss: 0.0803 - accuracy: 0.9750 - val_loss: 0.4177 - val_accuracy: 0.8660\n",
      "Epoch 15/20\n",
      "49/49 [==============================] - 1s 23ms/step - loss: 0.0738 - accuracy: 0.9772 - val_loss: 0.4539 - val_accuracy: 0.8597\n",
      "Epoch 16/20\n",
      "49/49 [==============================] - 1s 22ms/step - loss: 0.0677 - accuracy: 0.9800 - val_loss: 0.4658 - val_accuracy: 0.8612\n",
      "Epoch 17/20\n",
      "49/49 [==============================] - 1s 20ms/step - loss: 0.0627 - accuracy: 0.9818 - val_loss: 0.4854 - val_accuracy: 0.8601\n",
      "Epoch 18/20\n",
      "49/49 [==============================] - 1s 18ms/step - loss: 0.0564 - accuracy: 0.9843 - val_loss: 0.5086 - val_accuracy: 0.8593\n",
      "Epoch 19/20\n",
      "49/49 [==============================] - 1s 18ms/step - loss: 0.0528 - accuracy: 0.9853 - val_loss: 0.5358 - val_accuracy: 0.8564\n",
      "Epoch 20/20\n",
      "49/49 [==============================] - 1s 19ms/step - loss: 0.0477 - accuracy: 0.9875 - val_loss: 0.5581 - val_accuracy: 0.8565\n"
     ]
    }
   ],
   "source": [
    "smaller_model_hist = smaller_model.fit(x_train, y_train,\n",
    "                                       epochs=20,\n",
    "                                       batch_size=512,\n",
    "                                       validation_data=(x_test, y_test))"
   ]
  },
  {
   "cell_type": "code",
   "execution_count": 14,
   "id": "1a27d7dd",
   "metadata": {},
   "outputs": [],
   "source": [
    "epochs = range(1, 21)\n",
    "original_val_loss = original_hist.history['val_loss']\n",
    "smaller_model_val_loss = smaller_model_hist.history['val_loss']"
   ]
  },
  {
   "cell_type": "code",
   "execution_count": 15,
   "id": "59801c05",
   "metadata": {},
   "outputs": [],
   "source": [
    "import matplotlib.pyplot as plt"
   ]
  },
  {
   "cell_type": "code",
   "execution_count": 16,
   "id": "2f5a39a4",
   "metadata": {},
   "outputs": [
    {
     "data": {
      "image/png": "[encoded data removed]",
      "text/plain": [
       "<Figure size 432x288 with 1 Axes>"
      ]
     },
     "metadata": {
      "needs_background": "light"
     },
     "output_type": "display_data"
    }
   ],
   "source": [
    "plt.plot(epochs, original_val_loss, 'b+', label='original model')\n",
    "plt.plot(epochs, smaller_model_val_loss, 'bo', label='smaller model')\n",
    "plt.xlabel('epochs')\n",
    "plt.ylabel('validation loss')\n",
    "plt.legend()\n",
    "\n",
    "plt.show()"
   ]
  },
  {
   "cell_type": "markdown",
   "id": "94cbc700",
   "metadata": {},
   "source": [
    "그림에서 볼 수 있듯이 작은 네트워크가 기본 네트워크보다 나중에 과대적합되기 시작한다."
   ]
  },
  {
   "cell_type": "markdown",
   "id": "2d0f1ae1",
   "metadata": {},
   "source": [
    "### 가중치 규제 추가"
   ]
  },
  {
   "cell_type": "markdown",
   "id": "a912159f",
   "metadata": {},
   "source": [
    "간단한 모델은 파라미터 값의 분포의 엔트로피가 작은 모델이라고 할 수 있다. 그러므로 과대적합을 완화하기 위한 일반적인 방법은 네트워크의 복잡도에 제한을 두어 가중치가 작은 값을 가지도록 강제하는 것이다.  \n",
    "가중치 값의 분포가 더 균일하게 되는데 이를 **가중치 규제**라고 한다."
   ]
  },
  {
   "cell_type": "code",
   "execution_count": 17,
   "id": "f8d46646",
   "metadata": {},
   "outputs": [],
   "source": [
    "from tensorflow.keras import regularizers\n",
    "\n",
    "l2_model = models.Sequential()\n",
    "l2_model.add(layers.Dense(16, kernel_regularizer=regularizers.l2(0.001),\n",
    "                          activation='relu', input_shape=(10000,)))\n",
    "l2_model.add(layers.Dense(16, kernel_regularizer=regularizers.l2(0.001),\n",
    "                          activation='relu'))\n",
    "l2_model.add(layers.Dense(1, activation='sigmoid'))"
   ]
  },
  {
   "cell_type": "code",
   "execution_count": 18,
   "id": "1e4a1ee0",
   "metadata": {},
   "outputs": [],
   "source": [
    "l2_model.compile(optimizer='rmsprop',\n",
    "                loss='binary_crossentropy',\n",
    "                metrics=['accuracy'])"
   ]
  },
  {
   "cell_type": "markdown",
   "id": "f2089fef",
   "metadata": {},
   "source": [
    "l2(0.001)는 가중치 행렬의 모든 원소를 제곱하고 0.001을 곱하여 네트워크의 전체 손실에 더해진다는 의미이다."
   ]
  },
  {
   "cell_type": "code",
   "execution_count": 19,
   "id": "edbefb1d",
   "metadata": {
    "scrolled": true
   },
   "outputs": [
    {
     "name": "stdout",
     "output_type": "stream",
     "text": [
      "Epoch 1/20\n",
      "49/49 [==============================] - 4s 65ms/step - loss: 0.4829 - accuracy: 0.8226 - val_loss: 0.3720 - val_accuracy: 0.8849\n",
      "Epoch 2/20\n",
      "49/49 [==============================] - 1s 23ms/step - loss: 0.3072 - accuracy: 0.9100 - val_loss: 0.3430 - val_accuracy: 0.8822\n",
      "Epoch 3/20\n",
      "49/49 [==============================] - 1s 19ms/step - loss: 0.2671 - accuracy: 0.9220 - val_loss: 0.3495 - val_accuracy: 0.8788\n",
      "Epoch 4/20\n",
      "49/49 [==============================] - 1s 18ms/step - loss: 0.2497 - accuracy: 0.9292 - val_loss: 0.3434 - val_accuracy: 0.8846\n",
      "Epoch 5/20\n",
      "49/49 [==============================] - 1s 18ms/step - loss: 0.2395 - accuracy: 0.9326 - val_loss: 0.3560 - val_accuracy: 0.8783\n",
      "Epoch 6/20\n",
      "49/49 [==============================] - 1s 19ms/step - loss: 0.2327 - accuracy: 0.9354 - val_loss: 0.3680 - val_accuracy: 0.8774\n",
      "Epoch 7/20\n",
      "49/49 [==============================] - 1s 18ms/step - loss: 0.2269 - accuracy: 0.9388 - val_loss: 0.3587 - val_accuracy: 0.8801\n",
      "Epoch 8/20\n",
      "49/49 [==============================] - 1s 18ms/step - loss: 0.2214 - accuracy: 0.9399 - val_loss: 0.3644 - val_accuracy: 0.8792\n",
      "Epoch 9/20\n",
      "49/49 [==============================] - 1s 19ms/step - loss: 0.2160 - accuracy: 0.9432 - val_loss: 0.4672 - val_accuracy: 0.8480\n",
      "Epoch 10/20\n",
      "49/49 [==============================] - 1s 19ms/step - loss: 0.2145 - accuracy: 0.9415 - val_loss: 0.3874 - val_accuracy: 0.8727\n",
      "Epoch 11/20\n",
      "49/49 [==============================] - 1s 21ms/step - loss: 0.2115 - accuracy: 0.9438 - val_loss: 0.3799 - val_accuracy: 0.8761\n",
      "Epoch 12/20\n",
      "49/49 [==============================] - 1s 18ms/step - loss: 0.2051 - accuracy: 0.9458 - val_loss: 0.4108 - val_accuracy: 0.8685\n",
      "Epoch 13/20\n",
      "49/49 [==============================] - 1s 21ms/step - loss: 0.2070 - accuracy: 0.9454 - val_loss: 0.4016 - val_accuracy: 0.8715\n",
      "Epoch 14/20\n",
      "49/49 [==============================] - 1s 22ms/step - loss: 0.1981 - accuracy: 0.9503 - val_loss: 0.4866 - val_accuracy: 0.8488\n",
      "Epoch 15/20\n",
      "49/49 [==============================] - 1s 21ms/step - loss: 0.1949 - accuracy: 0.9510 - val_loss: 0.4098 - val_accuracy: 0.8696\n",
      "Epoch 16/20\n",
      "49/49 [==============================] - 1s 18ms/step - loss: 0.1965 - accuracy: 0.9485 - val_loss: 0.4049 - val_accuracy: 0.8712\n",
      "Epoch 17/20\n",
      "49/49 [==============================] - 1s 18ms/step - loss: 0.1908 - accuracy: 0.9518 - val_loss: 0.4164 - val_accuracy: 0.8706\n",
      "Epoch 18/20\n",
      "49/49 [==============================] - 1s 19ms/step - loss: 0.1896 - accuracy: 0.9514 - val_loss: 0.4283 - val_accuracy: 0.8668\n",
      "Epoch 19/20\n",
      "49/49 [==============================] - 1s 18ms/step - loss: 0.1854 - accuracy: 0.9531 - val_loss: 0.4818 - val_accuracy: 0.8536\n",
      "Epoch 20/20\n",
      "49/49 [==============================] - 1s 21ms/step - loss: 0.1846 - accuracy: 0.9542 - val_loss: 0.4235 - val_accuracy: 0.8686\n"
     ]
    }
   ],
   "source": [
    "l2_model_hist = l2_model.fit(x_train, y_train,\n",
    "                             epochs=20,\n",
    "                             batch_size=512,\n",
    "                             validation_data=(x_test, y_test))"
   ]
  },
  {
   "cell_type": "code",
   "execution_count": 20,
   "id": "23f7bb46",
   "metadata": {},
   "outputs": [
    {
     "data": {
      "image/png": "[encoded data removed]",
      "text/plain": [
       "<Figure size 432x288 with 1 Axes>"
      ]
     },
     "metadata": {
      "needs_background": "light"
     },
     "output_type": "display_data"
    }
   ],
   "source": [
    "l2_model_val_loss = l2_model_hist.history['val_loss']\n",
    "\n",
    "plt.plot(epochs, original_val_loss, 'b+', label='Original model')\n",
    "plt.plot(epochs, l2_model_val_loss, 'bo', label='L2-regularized model')\n",
    "plt.xlabel('Epochs')\n",
    "plt.ylabel('Validation loss')\n",
    "plt.legend()\n",
    "\n",
    "plt.show()"
   ]
  },
  {
   "cell_type": "markdown",
   "id": "5a1021f7",
   "metadata": {},
   "source": [
    "여기서 볼 수 있듯 두 모델이 동일한 파라미터 수를 가지고 있더라도 l2규제를 사용한 모델이 기본 보델보다 훨씬 더 과대적합에 잘 견디고 있다."
   ]
  },
  {
   "cell_type": "markdown",
   "id": "fa95401e",
   "metadata": {},
   "source": [
    "### 드롭아웃 추가"
   ]
  },
  {
   "cell_type": "markdown",
   "id": "170d509b",
   "metadata": {},
   "source": [
    "드롭아웃은 네트워크의 층에 훈련하는 동안 무작의로 층의 일부 출력 특성을 제외시킨다. 테스트단계에서는 어떤 유닛도 드롭아웃되지 않는다. 대신에 층의 출력을 드롭아웃 비율에 비례하여 줄여 준다. 훈련할 때 보다 더 많은 유닛이 활성화되기 때문이다."
   ]
  },
  {
   "cell_type": "code",
   "execution_count": 21,
   "id": "2d6ff237",
   "metadata": {},
   "outputs": [],
   "source": [
    "dpt_model = models.Sequential()\n",
    "dpt_model.add(layers.Dense(16, activation='relu', input_shape=(10000,)))\n",
    "dpt_model.add(layers.Dropout(0.5))\n",
    "dpt_model.add(layers.Dense(16, activation='relu'))\n",
    "dpt_model.add(layers.Dropout(0.5))\n",
    "dpt_model.add(layers.Dense(1, activation='sigmoid'))\n",
    "\n",
    "dpt_model.compile(optimizer='rmsprop',\n",
    "                  loss='binary_crossentropy',\n",
    "                  metrics=['accuracy'])"
   ]
  },
  {
   "cell_type": "code",
   "execution_count": 22,
   "id": "8f62a4d8",
   "metadata": {
    "scrolled": true
   },
   "outputs": [
    {
     "name": "stdout",
     "output_type": "stream",
     "text": [
      "Epoch 1/20\n",
      "49/49 [==============================] - 4s 83ms/step - loss: 0.5964 - accuracy: 0.6888 - val_loss: 0.4697 - val_accuracy: 0.8450\n",
      "Epoch 2/20\n",
      "49/49 [==============================] - 1s 22ms/step - loss: 0.4597 - accuracy: 0.8237 - val_loss: 0.3691 - val_accuracy: 0.8826\n",
      "Epoch 3/20\n",
      "49/49 [==============================] - 1s 19ms/step - loss: 0.3798 - accuracy: 0.8665 - val_loss: 0.3176 - val_accuracy: 0.8875\n",
      "Epoch 4/20\n",
      "49/49 [==============================] - 1s 19ms/step - loss: 0.3225 - accuracy: 0.8924 - val_loss: 0.2925 - val_accuracy: 0.8882\n",
      "Epoch 5/20\n",
      "49/49 [==============================] - 1s 19ms/step - loss: 0.2806 - accuracy: 0.9082 - val_loss: 0.2938 - val_accuracy: 0.8872\n",
      "Epoch 6/20\n",
      "49/49 [==============================] - 1s 18ms/step - loss: 0.2464 - accuracy: 0.9195 - val_loss: 0.2989 - val_accuracy: 0.8865\n",
      "Epoch 7/20\n",
      "49/49 [==============================] - 1s 20ms/step - loss: 0.2259 - accuracy: 0.9285 - val_loss: 0.3073 - val_accuracy: 0.8838\n",
      "Epoch 8/20\n",
      "49/49 [==============================] - 1s 19ms/step - loss: 0.2028 - accuracy: 0.9360 - val_loss: 0.3484 - val_accuracy: 0.8808\n",
      "Epoch 9/20\n",
      "49/49 [==============================] - 1s 19ms/step - loss: 0.1882 - accuracy: 0.9406 - val_loss: 0.3574 - val_accuracy: 0.8835\n",
      "Epoch 10/20\n",
      "49/49 [==============================] - 1s 20ms/step - loss: 0.1761 - accuracy: 0.9453 - val_loss: 0.3618 - val_accuracy: 0.8822\n",
      "Epoch 11/20\n",
      "49/49 [==============================] - 1s 19ms/step - loss: 0.1635 - accuracy: 0.9502 - val_loss: 0.3867 - val_accuracy: 0.8804\n",
      "Epoch 12/20\n",
      "49/49 [==============================] - 1s 21ms/step - loss: 0.1554 - accuracy: 0.9523 - val_loss: 0.4293 - val_accuracy: 0.8770\n",
      "Epoch 13/20\n",
      "49/49 [==============================] - 1s 23ms/step - loss: 0.1428 - accuracy: 0.9562 - val_loss: 0.4446 - val_accuracy: 0.8774\n",
      "Epoch 14/20\n",
      "49/49 [==============================] - 1s 21ms/step - loss: 0.1430 - accuracy: 0.9567 - val_loss: 0.4570 - val_accuracy: 0.8754\n",
      "Epoch 15/20\n",
      "49/49 [==============================] - 1s 19ms/step - loss: 0.1334 - accuracy: 0.9594 - val_loss: 0.5084 - val_accuracy: 0.8759\n",
      "Epoch 16/20\n",
      "49/49 [==============================] - 1s 19ms/step - loss: 0.1289 - accuracy: 0.9612 - val_loss: 0.4907 - val_accuracy: 0.8740\n",
      "Epoch 17/20\n",
      "49/49 [==============================] - 1s 19ms/step - loss: 0.1190 - accuracy: 0.9660 - val_loss: 0.5391 - val_accuracy: 0.8741\n",
      "Epoch 18/20\n",
      "49/49 [==============================] - 1s 18ms/step - loss: 0.1177 - accuracy: 0.9667 - val_loss: 0.5687 - val_accuracy: 0.8739\n",
      "Epoch 19/20\n",
      "49/49 [==============================] - 1s 18ms/step - loss: 0.1166 - accuracy: 0.9660 - val_loss: 0.5765 - val_accuracy: 0.8724\n",
      "Epoch 20/20\n",
      "49/49 [==============================] - 1s 19ms/step - loss: 0.1103 - accuracy: 0.9683 - val_loss: 0.6114 - val_accuracy: 0.8726\n"
     ]
    }
   ],
   "source": [
    "dpt_model_hist = dpt_model.fit(x_train, y_train,\n",
    "                               epochs=20,\n",
    "                               batch_size=512,\n",
    "                               validation_data=(x_test, y_test))"
   ]
  },
  {
   "cell_type": "code",
   "execution_count": 23,
   "id": "4fe3dc84",
   "metadata": {},
   "outputs": [
    {
     "data": {
      "image/png": "[encoded data removed]",
      "text/plain": [
       "<Figure size 432x288 with 1 Axes>"
      ]
     },
     "metadata": {
      "needs_background": "light"
     },
     "output_type": "display_data"
    }
   ],
   "source": [
    "dpt_model_val_loss = dpt_model_hist.history['val_loss']\n",
    "\n",
    "plt.plot(epochs, original_val_loss, 'b+', label='Original model')\n",
    "plt.plot(epochs, dpt_model_val_loss, 'bo', label='Dropout-regularized model')\n",
    "plt.xlabel('Epochs')\n",
    "plt.ylabel('Validation loss')\n",
    "plt.legend()\n",
    "\n",
    "plt.show()"
   ]
  },
  {
   "cell_type": "markdown",
   "id": "403517ca",
   "metadata": {},
   "source": [
    "기본 네트워크보다 확실히 향상된것을 확인할 수 있다."
   ]
  },
  {
   "cell_type": "code",
   "execution_count": null,
   "id": "f61756d3",
   "metadata": {},
   "outputs": [],
   "source": []
  }
 ],
 "metadata": {
  "kernelspec": {
   "display_name": "Python 3 (ipykernel)",
   "language": "python",
   "name": "python3"
  },
  "language_info": {
   "codemirror_mode": {
    "name": "ipython",
    "version": 3
   },
   "file_extension": ".py",
   "mimetype": "text/x-python",
   "name": "python",
   "nbconvert_exporter": "python",
   "pygments_lexer": "ipython3",
   "version": "3.8.12"
  }
 },
 "nbformat": 4,
 "nbformat_minor": 5
}
