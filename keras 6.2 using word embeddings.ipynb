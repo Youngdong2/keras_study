{
 "cells": [
  {
   "cell_type": "code",
   "execution_count": 1,
   "id": "a508a193",
   "metadata": {},
   "outputs": [
    {
     "name": "stderr",
     "output_type": "stream",
     "text": [
      "2022-07-09 13:23:34.839686: W tensorflow/stream_executor/platform/default/dso_loader.cc:64] Could not load dynamic library 'libcudart.so.11.0'; dlerror: libcudart.so.11.0: cannot open shared object file: No such file or directory\n",
      "2022-07-09 13:23:34.839730: I tensorflow/stream_executor/cuda/cudart_stub.cc:29] Ignore above cudart dlerror if you do not have a GPU set up on your machine.\n"
     ]
    }
   ],
   "source": [
    "from tensorflow import keras"
   ]
  },
  {
   "cell_type": "markdown",
   "id": "14e491c6",
   "metadata": {},
   "source": [
    "단어 임베딩을 만드는 방법은 두 가지이다.\n",
    "* 관심 대상인 문제와 함게 단어 임베딩을 학습힌다. 이런 경우에는 랜덤한 단어 벡터로 시작해서 신경망의 가중치를 학습하는 것과 같은 방식으로 단어 벡터를 학습한다.\n",
    "* 풀려는 문제가 아니고 다른 머신 러닝 작업에서 미리 계산된 단어 임베딩을 로드한다. 이를 사전 훈련된 단어 임베딩이라고 한다."
   ]
  },
  {
   "cell_type": "markdown",
   "id": "f7d86d5f",
   "metadata": {},
   "source": [
    "## `Embeeding` 층을 사용해 단어 임베딩 학습하기"
   ]
  },
  {
   "cell_type": "code",
   "execution_count": 2,
   "id": "e71d29b3",
   "metadata": {},
   "outputs": [],
   "source": [
    "from tensorflow.keras.layers import Embedding\n",
    "\n",
    "# Embedding 층은 적어도 두 개의 매개변수를 받는다.\n",
    "# 가능한 토큰의 개수 (여기서는 1000으로 단어 인덱스 최댓값 + 1)와 임베딩 차원(여기서는 64) 이다.\n",
    "embedding_layer = Embedding(1000, 64)"
   ]
  },
  {
   "cell_type": "markdown",
   "id": "1615e79b",
   "metadata": {},
   "source": [
    "`Embedding`층을 정수 인덱스를 밀집 벡터로 매핑하는 딕셔너리로 이해하는 것이 가장 좋다. 정수를 입력으로 받아 내부 딕셔너리에서 이 정수에 연관된 벡터를 찾아 반환한다."
   ]
  },
  {
   "cell_type": "markdown",
   "id": "c8bd0a34",
   "metadata": {},
   "source": [
    "`Embeding`층은 크기가 `(samples, sequence_length)`인 2D 정수 텐서를 입력으로 받는다. 각 샘플은 정수의 시퀀스이다. 가변 길이의 시퀀스를 임베딩할 수 있다. 배치에 있는 모든 시퀀스를 길이가 같아야 하므로 작은 길이의 시퀀스는 0으로 패딩되고 길이가 더 긴 시퀀스는 잘린다."
   ]
  },
  {
   "cell_type": "markdown",
   "id": "0d03f295",
   "metadata": {},
   "source": [
    "`Embedding`층은 크기가 `(samples, sequence_length, embedding_dim)`인 3d 실수형 텐서를 반환한다. 이런 3d 텐서는 rnn층이나 1d 합성곱 층에서 처리된다.  "
   ]
  },
  {
   "cell_type": "markdown",
   "id": "460d564a",
   "metadata": {},
   "source": [
    "IMDB 영화 리뷰 ㄱ마성 예측문제에 적용해 보자. 영화 리부에서 가장 빈도가 높은 1만 개의 단어를 추출하고 리뷰에서 20개가 넘는 단어는 버린다. 이 네트워크는 1만 개의 단어에 대해 8차원의 임베딩을 학습하여 정수 시퀀스 입력을 임베딩 시퀀스로 바꿀 것. 그 다음 이 텐서를 2d로 펼쳐서 분류를 위한 dense층을 훈련하겠다."
   ]
  },
  {
   "cell_type": "code",
   "execution_count": 3,
   "id": "7019362d",
   "metadata": {},
   "outputs": [
    {
     "name": "stdout",
     "output_type": "stream",
     "text": [
      "Downloading data from https://storage.googleapis.com/tensorflow/tf-keras-datasets/imdb.npz\n",
      "17465344/17464789 [==============================] - 1s 0us/step\n",
      "17473536/17464789 [==============================] - 1s 0us/step\n"
     ]
    }
   ],
   "source": [
    "from tensorflow.keras.datasets import imdb\n",
    "from tensorflow.keras import preprocessing\n",
    "\n",
    "# 특성으로 사용할 단어의 수\n",
    "max_features = 10000\n",
    "# 사용할 텍스트의 길이 (가장 빈번한 max_features 개의 단어만 사용)\n",
    "maxlen = 20\n",
    "\n",
    "# 정수 리스트로 데이터를 로드한다.\n",
    "(x_train, y_train), (x_test, y_test) = imdb.load_data(num_words=max_features)\n",
    "\n",
    "# 리스트를 (samples, maxlen) 크기의 2d 정수 텐서로 반환\n",
    "x_train = preprocessing.sequence.pad_sequences(x_train, maxlen=maxlen)\n",
    "x_test = preprocessing.sequence.pad_sequences(x_test, maxlen=maxlen)"
   ]
  },
  {
   "cell_type": "code",
   "execution_count": 5,
   "id": "c6b37456",
   "metadata": {},
   "outputs": [
    {
     "name": "stdout",
     "output_type": "stream",
     "text": [
      "Model: \"sequential_1\"\n",
      "_________________________________________________________________\n",
      "Layer (type)                 Output Shape              Param #   \n",
      "=================================================================\n",
      "embedding_1 (Embedding)      (None, 20, 8)             80000     \n",
      "_________________________________________________________________\n",
      "flatten (Flatten)            (None, 160)               0         \n",
      "_________________________________________________________________\n",
      "dense (Dense)                (None, 1)                 161       \n",
      "=================================================================\n",
      "Total params: 80,161\n",
      "Trainable params: 80,161\n",
      "Non-trainable params: 0\n",
      "_________________________________________________________________\n"
     ]
    },
    {
     "name": "stderr",
     "output_type": "stream",
     "text": [
      "/home/ubuntu/.pyenv/versions/3.8.12/lib/python3.8/site-packages/pandas/compat/__init__.py:124: UserWarning: Could not import the lzma module. Your installed Python is incomplete. Attempting to use lzma compression will result in a RuntimeError.\n",
      "  warnings.warn(msg)\n",
      "2022-07-09 14:05:14.684986: I tensorflow/compiler/mlir/mlir_graph_optimization_pass.cc:185] None of the MLIR Optimization Passes are enabled (registered 2)\n"
     ]
    },
    {
     "name": "stdout",
     "output_type": "stream",
     "text": [
      "Epoch 1/10\n",
      "625/625 [==============================] - 1s 1ms/step - loss: 0.6442 - accuracy: 0.6575 - val_loss: 0.5574 - val_accuracy: 0.7264\n",
      "Epoch 2/10\n",
      "625/625 [==============================] - 1s 923us/step - loss: 0.4718 - accuracy: 0.7915 - val_loss: 0.4928 - val_accuracy: 0.7510\n",
      "Epoch 3/10\n",
      "625/625 [==============================] - 1s 926us/step - loss: 0.3814 - accuracy: 0.8416 - val_loss: 0.4881 - val_accuracy: 0.7562\n",
      "Epoch 4/10\n",
      "625/625 [==============================] - 1s 1ms/step - loss: 0.3176 - accuracy: 0.8773 - val_loss: 0.5002 - val_accuracy: 0.7504\n",
      "Epoch 5/10\n",
      "625/625 [==============================] - 1s 953us/step - loss: 0.2637 - accuracy: 0.9066 - val_loss: 0.5186 - val_accuracy: 0.7490\n",
      "Epoch 6/10\n",
      "625/625 [==============================] - 1s 994us/step - loss: 0.2172 - accuracy: 0.9288 - val_loss: 0.5428 - val_accuracy: 0.7448\n",
      "Epoch 7/10\n",
      "625/625 [==============================] - 1s 980us/step - loss: 0.1783 - accuracy: 0.9467 - val_loss: 0.5729 - val_accuracy: 0.7428\n",
      "Epoch 8/10\n",
      "625/625 [==============================] - 1s 937us/step - loss: 0.1446 - accuracy: 0.9621 - val_loss: 0.6044 - val_accuracy: 0.7420\n",
      "Epoch 9/10\n",
      "625/625 [==============================] - 1s 970us/step - loss: 0.1171 - accuracy: 0.9731 - val_loss: 0.6418 - val_accuracy: 0.7358\n",
      "Epoch 10/10\n",
      "625/625 [==============================] - 1s 1ms/step - loss: 0.0936 - accuracy: 0.9817 - val_loss: 0.6801 - val_accuracy: 0.7342\n"
     ]
    }
   ],
   "source": [
    "from tensorflow.keras.models import Sequential\n",
    "from tensorflow.keras.layers import Flatten, Dense, Embedding\n",
    "\n",
    "model  = Sequential()\n",
    "# 나중에 임베딩된 입력을 Flatten 층에서 펼치기 위해 Embedding 층에 input_length를 지정한다.\n",
    "model.add(Embedding(10000, 8, input_length=maxlen))\n",
    "# Embedding 층의 츨력 크기는 (samples, maxlen, 8) 크기로 2d 텐서로 펼친다.\n",
    "\n",
    "# 3D 임베딩 텐서를 (samples, maxlen*8)크기의 2d 텐서로 펼친다.\n",
    "model.add(Flatten())\n",
    "\n",
    "# 분류기를 추가한다.\n",
    "model.add(Dense(1, activation='sigmoid'))\n",
    "model.compile(optimizer='Adam', loss='binary_crossentropy', metrics=['accuracy'])\n",
    "model.summary()\n",
    "\n",
    "history = model.fit(x_train, y_train,\n",
    "                   epochs=10,\n",
    "                   batch_size=32,\n",
    "                   validation_split=0.2)"
   ]
  },
  {
   "cell_type": "markdown",
   "id": "3d8f0e33",
   "metadata": {},
   "source": [
    "## 사전 훈련된 단어 임베딩 사용하기"
   ]
  },
  {
   "cell_type": "markdown",
   "id": "c50b594a",
   "metadata": {},
   "source": [
    "훈련데이터가 부족하면 작업에 맞는 단어 임베딩을 학습할 수 없다.  \n",
    "풀려는 문제와 함께 단어 임베딩을 학습하는 대신에 미리 계산된 임베딩 공간에서 임베딩 벡터를 로드할 수 있다. 이런 임베딩 공간은 뛰어난 구조와 유용한 성질을 가지고 있어서 언어 구조의 일반적인 측면을 잡아낼 수 있다.  \n"
   ]
  },
  {
   "cell_type": "code",
   "execution_count": 6,
   "id": "8ecfb8b0",
   "metadata": {},
   "outputs": [],
   "source": [
    "import os\n",
    "\n",
    "imdb_dir = './aclImdb/'\n",
    "train_dir = os.path.join(imdb_dir, 'train')\n",
    "\n",
    "labels = []\n",
    "texts = []\n",
    "\n",
    "for label_type in ['neg', 'pos']:\n",
    "    dir_name = os.path.join(train_dir, label_type)\n",
    "    for fname in os.listdir(dir_name):\n",
    "        if fname[-4:] == '.txt':\n",
    "            f = open(os.path.join(dir_name, fname), encoding='utf8')\n",
    "            texts.append(f.read())\n",
    "            f.close()\n",
    "            if label_type == 'neg':\n",
    "                labels.append(0)\n",
    "            else:\n",
    "                labels.append(1)"
   ]
  },
  {
   "cell_type": "markdown",
   "id": "41e9a371",
   "metadata": {},
   "source": [
    "### 데이터 토큰화"
   ]
  },
  {
   "cell_type": "code",
   "execution_count": 7,
   "id": "bbf2e7df",
   "metadata": {},
   "outputs": [
    {
     "name": "stdout",
     "output_type": "stream",
     "text": [
      "22977개의 고유한 토큰을 찾았습니다.\n",
      "데이터 텐서의 크기: (1787, 100)\n",
      "레이블 텐서의 크기: (1787,)\n"
     ]
    }
   ],
   "source": [
    "from tensorflow.keras.preprocessing.text import Tokenizer\n",
    "from tensorflow.keras.preprocessing.sequence import pad_sequences\n",
    "import numpy as np\n",
    "\n",
    "maxlen = 100  # 100개 단어 이후는 버립니다\n",
    "training_samples = 200  # 훈련 샘플은 200개입니다\n",
    "validation_samples = 10000  # 검증 샘플은 10,000개입니다\n",
    "max_words = 10000  # 데이터셋에서 가장 빈도 높은 10,000개의 단어만 사용합니다\n",
    "\n",
    "tokenizer = Tokenizer(num_words=max_words)\n",
    "tokenizer.fit_on_texts(texts)\n",
    "sequences = tokenizer.texts_to_sequences(texts)\n",
    "\n",
    "word_index = tokenizer.word_index\n",
    "print('%s개의 고유한 토큰을 찾았습니다.' % len(word_index))\n",
    "\n",
    "data = pad_sequences(sequences, maxlen=maxlen)\n",
    "\n",
    "labels = np.asarray(labels)\n",
    "print('데이터 텐서의 크기:', data.shape)\n",
    "print('레이블 텐서의 크기:', labels.shape)\n",
    "\n",
    "# 데이터를 훈련 세트와 검증 세트로 분할합니다.\n",
    "# 샘플이 순서대로 있기 때문에 (부정 샘플이 모두 나온 후에 긍정 샘플이 옵니다) \n",
    "# 먼저 데이터를 섞습니다.\n",
    "indices = np.arange(data.shape[0])\n",
    "np.random.shuffle(indices)\n",
    "data = data[indices]\n",
    "labels = labels[indices]\n",
    "\n",
    "x_train = data[:training_samples]\n",
    "y_train = labels[:training_samples]\n",
    "x_val = data[training_samples: training_samples + validation_samples]\n",
    "y_val = labels[training_samples: training_samples + validation_samples]"
   ]
  },
  {
   "cell_type": "markdown",
   "id": "b93c7fd6",
   "metadata": {},
   "source": [
    "## GloVe 단어임베딩 내려받기"
   ]
  },
  {
   "cell_type": "code",
   "execution_count": null,
   "id": "40645773",
   "metadata": {},
   "outputs": [],
   "source": []
  }
 ],
 "metadata": {
  "kernelspec": {
   "display_name": "Python 3 (ipykernel)",
   "language": "python",
   "name": "python3"
  },
  "language_info": {
   "codemirror_mode": {
    "name": "ipython",
    "version": 3
   },
   "file_extension": ".py",
   "mimetype": "text/x-python",
   "name": "python",
   "nbconvert_exporter": "python",
   "pygments_lexer": "ipython3",
   "version": "3.8.12"
  }
 },
 "nbformat": 4,
 "nbformat_minor": 5
}
